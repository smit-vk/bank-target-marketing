{
 "cells": [
  {
   "cell_type": "markdown",
   "id": "da4bb790",
   "metadata": {},
   "source": [
    "## About this file\n",
    "\n",
    "**The dataset consists of 17 columns, each representing the following attributes:**\n",
    "\n",
    "• age: Customer's age.\n",
    "\n",
    "• job: Customer's occupation.\n",
    "\n",
    "• marital: Customer's marital status.\n",
    "\n",
    "• education: Customer's level of education.\n",
    "\n",
    "• default: Whether the customer has credit in default.\n",
    "\n",
    "• balance: Customer's average yearly balance.\n",
    "\n",
    "• housing: Whether the customer has a housing loan.\n",
    "\n",
    "• loan: Whether the customer has a personal loan.\n",
    "\n",
    "• contact: Type of communication contact with the customer.\n",
    "\n",
    "• day: Last contact day of the month.\n",
    "\n",
    "• month: Last contact month of the year.\n",
    "\n",
    "• duration: Last contact duration in seconds.\n",
    "\n",
    "• campaign: Number of contacts performed during this campaign for the customer.\n",
    "\n",
    "• pdays: Number of days since the customer was last contacted from a previous campaign.\n",
    "\n",
    "• previous: Number of contacts performed before this campaign for the customer.\n",
    "\n",
    "• poutcome: Outcome of the previous marketing campaign.\n",
    "\n",
    "• deposit: Whether the customer subscribed to a term deposit."
   ]
  },
  {
   "cell_type": "markdown",
   "id": "3c68de91",
   "metadata": {},
   "source": [
    "## 1. Import:"
   ]
  },
  {
   "cell_type": "code",
   "execution_count": 202,
   "id": "b947fa2d",
   "metadata": {},
   "outputs": [],
   "source": [
    "import pandas as pd\n",
    "import numpy as np\n",
    "import os\n",
    "import seaborn as sns\n",
    "from matplotlib import pyplot as plt"
   ]
  },
  {
   "cell_type": "markdown",
   "id": "2272d569",
   "metadata": {},
   "source": [
    "**Let's load the data.**"
   ]
  },
  {
   "cell_type": "code",
   "execution_count": 203,
   "id": "fa0d4466",
   "metadata": {},
   "outputs": [
    {
     "data": {
      "text/html": [
       "<div>\n",
       "<style scoped>\n",
       "    .dataframe tbody tr th:only-of-type {\n",
       "        vertical-align: middle;\n",
       "    }\n",
       "\n",
       "    .dataframe tbody tr th {\n",
       "        vertical-align: top;\n",
       "    }\n",
       "\n",
       "    .dataframe thead th {\n",
       "        text-align: right;\n",
       "    }\n",
       "</style>\n",
       "<table border=\"1\" class=\"dataframe\">\n",
       "  <thead>\n",
       "    <tr style=\"text-align: right;\">\n",
       "      <th></th>\n",
       "      <th>age</th>\n",
       "      <th>job</th>\n",
       "      <th>marital</th>\n",
       "      <th>education</th>\n",
       "      <th>default</th>\n",
       "      <th>balance</th>\n",
       "      <th>housing</th>\n",
       "      <th>loan</th>\n",
       "      <th>contact</th>\n",
       "      <th>day</th>\n",
       "      <th>month</th>\n",
       "      <th>duration</th>\n",
       "      <th>campaign</th>\n",
       "      <th>pdays</th>\n",
       "      <th>previous</th>\n",
       "      <th>poutcome</th>\n",
       "      <th>deposit</th>\n",
       "    </tr>\n",
       "  </thead>\n",
       "  <tbody>\n",
       "    <tr>\n",
       "      <th>0</th>\n",
       "      <td>59</td>\n",
       "      <td>admin.</td>\n",
       "      <td>married</td>\n",
       "      <td>secondary</td>\n",
       "      <td>no</td>\n",
       "      <td>2343</td>\n",
       "      <td>yes</td>\n",
       "      <td>no</td>\n",
       "      <td>unknown</td>\n",
       "      <td>5</td>\n",
       "      <td>may</td>\n",
       "      <td>1042</td>\n",
       "      <td>1</td>\n",
       "      <td>-1</td>\n",
       "      <td>0</td>\n",
       "      <td>unknown</td>\n",
       "      <td>yes</td>\n",
       "    </tr>\n",
       "    <tr>\n",
       "      <th>1</th>\n",
       "      <td>56</td>\n",
       "      <td>admin.</td>\n",
       "      <td>married</td>\n",
       "      <td>secondary</td>\n",
       "      <td>no</td>\n",
       "      <td>45</td>\n",
       "      <td>no</td>\n",
       "      <td>no</td>\n",
       "      <td>unknown</td>\n",
       "      <td>5</td>\n",
       "      <td>may</td>\n",
       "      <td>1467</td>\n",
       "      <td>1</td>\n",
       "      <td>-1</td>\n",
       "      <td>0</td>\n",
       "      <td>unknown</td>\n",
       "      <td>yes</td>\n",
       "    </tr>\n",
       "    <tr>\n",
       "      <th>2</th>\n",
       "      <td>41</td>\n",
       "      <td>technician</td>\n",
       "      <td>married</td>\n",
       "      <td>secondary</td>\n",
       "      <td>no</td>\n",
       "      <td>1270</td>\n",
       "      <td>yes</td>\n",
       "      <td>no</td>\n",
       "      <td>unknown</td>\n",
       "      <td>5</td>\n",
       "      <td>may</td>\n",
       "      <td>1389</td>\n",
       "      <td>1</td>\n",
       "      <td>-1</td>\n",
       "      <td>0</td>\n",
       "      <td>unknown</td>\n",
       "      <td>yes</td>\n",
       "    </tr>\n",
       "    <tr>\n",
       "      <th>3</th>\n",
       "      <td>55</td>\n",
       "      <td>services</td>\n",
       "      <td>married</td>\n",
       "      <td>secondary</td>\n",
       "      <td>no</td>\n",
       "      <td>2476</td>\n",
       "      <td>yes</td>\n",
       "      <td>no</td>\n",
       "      <td>unknown</td>\n",
       "      <td>5</td>\n",
       "      <td>may</td>\n",
       "      <td>579</td>\n",
       "      <td>1</td>\n",
       "      <td>-1</td>\n",
       "      <td>0</td>\n",
       "      <td>unknown</td>\n",
       "      <td>yes</td>\n",
       "    </tr>\n",
       "    <tr>\n",
       "      <th>4</th>\n",
       "      <td>54</td>\n",
       "      <td>admin.</td>\n",
       "      <td>married</td>\n",
       "      <td>tertiary</td>\n",
       "      <td>no</td>\n",
       "      <td>184</td>\n",
       "      <td>no</td>\n",
       "      <td>no</td>\n",
       "      <td>unknown</td>\n",
       "      <td>5</td>\n",
       "      <td>may</td>\n",
       "      <td>673</td>\n",
       "      <td>2</td>\n",
       "      <td>-1</td>\n",
       "      <td>0</td>\n",
       "      <td>unknown</td>\n",
       "      <td>yes</td>\n",
       "    </tr>\n",
       "  </tbody>\n",
       "</table>\n",
       "</div>"
      ],
      "text/plain": [
       "   age         job  marital  education default  balance housing loan  contact  \\\n",
       "0   59      admin.  married  secondary      no     2343     yes   no  unknown   \n",
       "1   56      admin.  married  secondary      no       45      no   no  unknown   \n",
       "2   41  technician  married  secondary      no     1270     yes   no  unknown   \n",
       "3   55    services  married  secondary      no     2476     yes   no  unknown   \n",
       "4   54      admin.  married   tertiary      no      184      no   no  unknown   \n",
       "\n",
       "   day month  duration  campaign  pdays  previous poutcome deposit  \n",
       "0    5   may      1042         1     -1         0  unknown     yes  \n",
       "1    5   may      1467         1     -1         0  unknown     yes  \n",
       "2    5   may      1389         1     -1         0  unknown     yes  \n",
       "3    5   may       579         1     -1         0  unknown     yes  \n",
       "4    5   may       673         2     -1         0  unknown     yes  "
      ]
     },
     "execution_count": 203,
     "metadata": {},
     "output_type": "execute_result"
    }
   ],
   "source": [
    "data_list = []\n",
    "for i in os.listdir():\n",
    "    if \".csv\" in i:\n",
    "        data_list.append(i)\n",
    "\n",
    "df = pd.read_csv(data_list[0])\n",
    "df.head()"
   ]
  },
  {
   "cell_type": "markdown",
   "id": "db1c0122",
   "metadata": {},
   "source": [
    "**Begin the basic analysis by retrieving fundamental information about the dataset.**"
   ]
  },
  {
   "cell_type": "code",
   "execution_count": 204,
   "id": "3feeb308",
   "metadata": {
    "scrolled": true
   },
   "outputs": [
    {
     "data": {
      "text/plain": [
       "age           int64\n",
       "job          object\n",
       "marital      object\n",
       "education    object\n",
       "default      object\n",
       "balance       int64\n",
       "housing      object\n",
       "loan         object\n",
       "contact      object\n",
       "day           int64\n",
       "month        object\n",
       "duration      int64\n",
       "campaign      int64\n",
       "pdays         int64\n",
       "previous      int64\n",
       "poutcome     object\n",
       "deposit      object\n",
       "dtype: object"
      ]
     },
     "execution_count": 204,
     "metadata": {},
     "output_type": "execute_result"
    }
   ],
   "source": [
    "df.dtypes"
   ]
  },
  {
   "cell_type": "code",
   "execution_count": 205,
   "id": "b72d7851",
   "metadata": {
    "scrolled": true
   },
   "outputs": [
    {
     "data": {
      "text/plain": [
       "age          0\n",
       "job          0\n",
       "marital      0\n",
       "education    0\n",
       "default      0\n",
       "balance      0\n",
       "housing      0\n",
       "loan         0\n",
       "contact      0\n",
       "day          0\n",
       "month        0\n",
       "duration     0\n",
       "campaign     0\n",
       "pdays        0\n",
       "previous     0\n",
       "poutcome     0\n",
       "deposit      0\n",
       "dtype: int64"
      ]
     },
     "execution_count": 205,
     "metadata": {},
     "output_type": "execute_result"
    }
   ],
   "source": [
    "df.isna().sum()"
   ]
  },
  {
   "cell_type": "code",
   "execution_count": 206,
   "id": "06172797",
   "metadata": {
    "scrolled": false
   },
   "outputs": [
    {
     "name": "stdout",
     "output_type": "stream",
     "text": [
      "           count\n",
      "contact         \n",
      "cellular   37327\n",
      "unknown    15366\n",
      "telephone   3680\n",
      "          count\n",
      "poutcome       \n",
      "unknown   45285\n",
      "failure    6129\n",
      "success    2582\n",
      "other      2377\n"
     ]
    }
   ],
   "source": [
    "print(df.contact.value_counts().to_frame())\n",
    "print(df.poutcome.value_counts().to_frame())"
   ]
  },
  {
   "cell_type": "markdown",
   "id": "de741999",
   "metadata": {},
   "source": [
    "**Correlation:**"
   ]
  },
  {
   "cell_type": "code",
   "execution_count": 207,
   "id": "0d547e30",
   "metadata": {
    "scrolled": true
   },
   "outputs": [
    {
     "data": {
      "text/html": [
       "<div>\n",
       "<style scoped>\n",
       "    .dataframe tbody tr th:only-of-type {\n",
       "        vertical-align: middle;\n",
       "    }\n",
       "\n",
       "    .dataframe tbody tr th {\n",
       "        vertical-align: top;\n",
       "    }\n",
       "\n",
       "    .dataframe thead th {\n",
       "        text-align: right;\n",
       "    }\n",
       "</style>\n",
       "<table border=\"1\" class=\"dataframe\">\n",
       "  <thead>\n",
       "    <tr style=\"text-align: right;\">\n",
       "      <th></th>\n",
       "      <th>age</th>\n",
       "      <th>balance</th>\n",
       "      <th>day</th>\n",
       "      <th>duration</th>\n",
       "      <th>campaign</th>\n",
       "      <th>pdays</th>\n",
       "      <th>previous</th>\n",
       "    </tr>\n",
       "  </thead>\n",
       "  <tbody>\n",
       "    <tr>\n",
       "      <th>age</th>\n",
       "      <td>1.000000</td>\n",
       "      <td>0.101250</td>\n",
       "      <td>-0.007360</td>\n",
       "      <td>-0.001533</td>\n",
       "      <td>0.002417</td>\n",
       "      <td>-0.017132</td>\n",
       "      <td>0.005828</td>\n",
       "    </tr>\n",
       "    <tr>\n",
       "      <th>balance</th>\n",
       "      <td>0.101250</td>\n",
       "      <td>1.000000</td>\n",
       "      <td>0.005596</td>\n",
       "      <td>0.024846</td>\n",
       "      <td>-0.015123</td>\n",
       "      <td>0.007454</td>\n",
       "      <td>0.020500</td>\n",
       "    </tr>\n",
       "    <tr>\n",
       "      <th>day</th>\n",
       "      <td>-0.007360</td>\n",
       "      <td>0.005596</td>\n",
       "      <td>1.000000</td>\n",
       "      <td>-0.027839</td>\n",
       "      <td>0.157817</td>\n",
       "      <td>-0.089853</td>\n",
       "      <td>-0.053414</td>\n",
       "    </tr>\n",
       "    <tr>\n",
       "      <th>duration</th>\n",
       "      <td>-0.001533</td>\n",
       "      <td>0.024846</td>\n",
       "      <td>-0.027839</td>\n",
       "      <td>1.000000</td>\n",
       "      <td>-0.078064</td>\n",
       "      <td>-0.001250</td>\n",
       "      <td>0.001425</td>\n",
       "    </tr>\n",
       "    <tr>\n",
       "      <th>campaign</th>\n",
       "      <td>0.002417</td>\n",
       "      <td>-0.015123</td>\n",
       "      <td>0.157817</td>\n",
       "      <td>-0.078064</td>\n",
       "      <td>1.000000</td>\n",
       "      <td>-0.092324</td>\n",
       "      <td>-0.037217</td>\n",
       "    </tr>\n",
       "    <tr>\n",
       "      <th>pdays</th>\n",
       "      <td>-0.017132</td>\n",
       "      <td>0.007454</td>\n",
       "      <td>-0.089853</td>\n",
       "      <td>-0.001250</td>\n",
       "      <td>-0.092324</td>\n",
       "      <td>1.000000</td>\n",
       "      <td>0.466584</td>\n",
       "    </tr>\n",
       "    <tr>\n",
       "      <th>previous</th>\n",
       "      <td>0.005828</td>\n",
       "      <td>0.020500</td>\n",
       "      <td>-0.053414</td>\n",
       "      <td>0.001425</td>\n",
       "      <td>-0.037217</td>\n",
       "      <td>0.466584</td>\n",
       "      <td>1.000000</td>\n",
       "    </tr>\n",
       "  </tbody>\n",
       "</table>\n",
       "</div>"
      ],
      "text/plain": [
       "               age   balance       day  duration  campaign     pdays  previous\n",
       "age       1.000000  0.101250 -0.007360 -0.001533  0.002417 -0.017132  0.005828\n",
       "balance   0.101250  1.000000  0.005596  0.024846 -0.015123  0.007454  0.020500\n",
       "day      -0.007360  0.005596  1.000000 -0.027839  0.157817 -0.089853 -0.053414\n",
       "duration -0.001533  0.024846 -0.027839  1.000000 -0.078064 -0.001250  0.001425\n",
       "campaign  0.002417 -0.015123  0.157817 -0.078064  1.000000 -0.092324 -0.037217\n",
       "pdays    -0.017132  0.007454 -0.089853 -0.001250 -0.092324  1.000000  0.466584\n",
       "previous  0.005828  0.020500 -0.053414  0.001425 -0.037217  0.466584  1.000000"
      ]
     },
     "execution_count": 207,
     "metadata": {},
     "output_type": "execute_result"
    }
   ],
   "source": [
    "num_df = df.select_dtypes(include = np.number)\n",
    "num_df.corr()"
   ]
  },
  {
   "cell_type": "markdown",
   "id": "f2792dee",
   "metadata": {},
   "source": [
    "## 2. Preparing the dataset for visual analysis:"
   ]
  },
  {
   "cell_type": "code",
   "execution_count": 208,
   "id": "c183cef6",
   "metadata": {
    "scrolled": false
   },
   "outputs": [],
   "source": [
    "bins = np.linspace(min(df.age), max(df.age), 6)\n",
    "g_names = [\"lower_age\", \"lower_mid_age\", \"mid_age\",\"higher_mid_age\", \"higher_age\"]\n",
    "df[\"binned_age\"] = pd.cut(df.age, bins, labels = g_names, include_lowest = True)"
   ]
  },
  {
   "cell_type": "code",
   "execution_count": 209,
   "id": "24ad3f52",
   "metadata": {
    "scrolled": true
   },
   "outputs": [],
   "source": [
    "bins = np.linspace(min(df.balance), max(df.balance), 6)\n",
    "g_names = [\"lower_bal\", \"low_mid_bal\", \"mid_bal\",\"high_mid_bal\", \"higher_bal\"]\n",
    "df[\"binned_bal\"] = pd.cut(df.balance, bins, labels = g_names, include_lowest = True)"
   ]
  },
  {
   "cell_type": "code",
   "execution_count": 210,
   "id": "cba6a4d7",
   "metadata": {
    "scrolled": false
   },
   "outputs": [],
   "source": [
    "age_vs_bal = df[[\"binned_age\", \"balance\"]]\n",
    "age_vs_bal = age_vs_bal.groupby([\"binned_age\"], as_index = False).mean()"
   ]
  },
  {
   "cell_type": "code",
   "execution_count": 211,
   "id": "24efcb9d",
   "metadata": {
    "scrolled": true
   },
   "outputs": [
    {
     "data": {
      "text/html": [
       "<div>\n",
       "<style scoped>\n",
       "    .dataframe tbody tr th:only-of-type {\n",
       "        vertical-align: middle;\n",
       "    }\n",
       "\n",
       "    .dataframe tbody tr th {\n",
       "        vertical-align: top;\n",
       "    }\n",
       "\n",
       "    .dataframe thead th {\n",
       "        text-align: right;\n",
       "    }\n",
       "</style>\n",
       "<table border=\"1\" class=\"dataframe\">\n",
       "  <thead>\n",
       "    <tr style=\"text-align: right;\">\n",
       "      <th></th>\n",
       "      <th>binned_age</th>\n",
       "      <th>balance</th>\n",
       "    </tr>\n",
       "  </thead>\n",
       "  <tbody>\n",
       "    <tr>\n",
       "      <th>0</th>\n",
       "      <td>lower_age</td>\n",
       "      <td>1148.510558</td>\n",
       "    </tr>\n",
       "    <tr>\n",
       "      <th>1</th>\n",
       "      <td>lower_mid_age</td>\n",
       "      <td>1312.683792</td>\n",
       "    </tr>\n",
       "    <tr>\n",
       "      <th>2</th>\n",
       "      <td>mid_age</td>\n",
       "      <td>1740.095653</td>\n",
       "    </tr>\n",
       "    <tr>\n",
       "      <th>3</th>\n",
       "      <td>higher_mid_age</td>\n",
       "      <td>2696.416263</td>\n",
       "    </tr>\n",
       "    <tr>\n",
       "      <th>4</th>\n",
       "      <td>higher_age</td>\n",
       "      <td>3486.504950</td>\n",
       "    </tr>\n",
       "  </tbody>\n",
       "</table>\n",
       "</div>"
      ],
      "text/plain": [
       "       binned_age      balance\n",
       "0       lower_age  1148.510558\n",
       "1   lower_mid_age  1312.683792\n",
       "2         mid_age  1740.095653\n",
       "3  higher_mid_age  2696.416263\n",
       "4      higher_age  3486.504950"
      ]
     },
     "execution_count": 211,
     "metadata": {},
     "output_type": "execute_result"
    }
   ],
   "source": [
    "age_vs_bal.head()"
   ]
  },
  {
   "cell_type": "code",
   "execution_count": 212,
   "id": "f8fcb432",
   "metadata": {
    "scrolled": false
   },
   "outputs": [],
   "source": [
    "dict_deposit = {\"yes\": 1, \"no\": 0}\n",
    "df[\"deposit_n\"] = df.deposit.map(dict_deposit)"
   ]
  },
  {
   "cell_type": "code",
   "execution_count": 213,
   "id": "deb32148",
   "metadata": {
    "scrolled": true
   },
   "outputs": [
    {
     "data": {
      "text/plain": [
       "array(['married', 'single', 'divorced'], dtype=object)"
      ]
     },
     "execution_count": 213,
     "metadata": {},
     "output_type": "execute_result"
    }
   ],
   "source": [
    "df.marital.unique()"
   ]
  },
  {
   "cell_type": "code",
   "execution_count": 214,
   "id": "02367747",
   "metadata": {
    "scrolled": false
   },
   "outputs": [],
   "source": [
    "dict_marital = {'married': 1, 'single': 0, 'divorced': 2}\n",
    "df[\"marital_n\"] = df.marital.map(dict_marital)"
   ]
  },
  {
   "cell_type": "markdown",
   "id": "6d8bd227",
   "metadata": {},
   "source": [
    "## 3. Data Visualization:"
   ]
  },
  {
   "cell_type": "markdown",
   "id": "5ce41260",
   "metadata": {},
   "source": [
    "**Age and Deposit**"
   ]
  },
  {
   "cell_type": "code",
   "execution_count": 215,
   "id": "c5c3c849",
   "metadata": {
    "scrolled": false
   },
   "outputs": [
    {
     "data": {
      "text/plain": [
       "<Axes: xlabel='age', ylabel='deposit_n'>"
      ]
     },
     "execution_count": 215,
     "metadata": {},
     "output_type": "execute_result"
    },
    {
     "data": {
      "image/png": "[encoded data removed]",
      "text/plain": [
       "<Figure size 640x480 with 1 Axes>"
      ]
     },
     "metadata": {},
     "output_type": "display_data"
    }
   ],
   "source": [
    "sns.regplot(x = \"age\", y = \"deposit_n\", data = df, line_kws = {\"color\": \"red\"})"
   ]
  },
  {
   "cell_type": "code",
   "execution_count": 216,
   "id": "8beed37c",
   "metadata": {},
   "outputs": [
    {
     "data": {
      "text/plain": [
       "<Axes: xlabel='binned_age', ylabel='deposit_n'>"
      ]
     },
     "execution_count": 216,
     "metadata": {},
     "output_type": "execute_result"
    },
    {
     "data": {
      "image/png": "[encoded data removed]",
      "text/plain": [
       "<Figure size 640x480 with 1 Axes>"
      ]
     },
     "metadata": {},
     "output_type": "display_data"
    }
   ],
   "source": [
    "sns.barplot(x=\"binned_age\", y=\"deposit_n\", data=df)"
   ]
  },
  {
   "cell_type": "markdown",
   "id": "a38b6908",
   "metadata": {},
   "source": [
    "**Age and Balance**"
   ]
  },
  {
   "cell_type": "code",
   "execution_count": 217,
   "id": "77d2c6e8",
   "metadata": {
    "scrolled": true
   },
   "outputs": [
    {
     "data": {
      "text/plain": [
       "<Axes: xlabel='binned_age', ylabel='balance'>"
      ]
     },
     "execution_count": 217,
     "metadata": {},
     "output_type": "execute_result"
    },
    {
     "data": {
      "image/png": "[encoded data removed]",
      "text/plain": [
       "<Figure size 640x480 with 1 Axes>"
      ]
     },
     "metadata": {},
     "output_type": "display_data"
    }
   ],
   "source": [
    "sns.barplot(x = \"binned_age\", y = \"balance\", data = age_vs_bal)"
   ]
  },
  {
   "cell_type": "markdown",
   "id": "a198b433",
   "metadata": {},
   "source": [
    "**Marital and Balance**"
   ]
  },
  {
   "cell_type": "code",
   "execution_count": 218,
   "id": "37245ad3",
   "metadata": {
    "scrolled": true
   },
   "outputs": [
    {
     "data": {
      "text/plain": [
       "<Axes: xlabel='marital', ylabel='balance'>"
      ]
     },
     "execution_count": 218,
     "metadata": {},
     "output_type": "execute_result"
    },
    {
     "data": {
      "image/png": "[encoded data removed]",
      "text/plain": [
       "<Figure size 640x480 with 1 Axes>"
      ]
     },
     "metadata": {},
     "output_type": "display_data"
    }
   ],
   "source": [
    "sns.barplot(x = \"marital\", y = \"balance\", data=df)"
   ]
  },
  {
   "cell_type": "markdown",
   "id": "30d40ae1",
   "metadata": {},
   "source": [
    "**Marital and Deposit**"
   ]
  },
  {
   "cell_type": "code",
   "execution_count": 219,
   "id": "2fefdc18",
   "metadata": {
    "scrolled": true
   },
   "outputs": [
    {
     "data": {
      "text/plain": [
       "<Axes: xlabel='marital', ylabel='deposit_n'>"
      ]
     },
     "execution_count": 219,
     "metadata": {},
     "output_type": "execute_result"
    },
    {
     "data": {
      "image/png": "[encoded data removed]",
      "text/plain": [
       "<Figure size 640x480 with 1 Axes>"
      ]
     },
     "metadata": {},
     "output_type": "display_data"
    }
   ],
   "source": [
    "sns.barplot(x = \"marital\", y = \"deposit_n\", data=df)"
   ]
  },
  {
   "cell_type": "markdown",
   "id": "14968e46",
   "metadata": {},
   "source": [
    "**Education and Balance**"
   ]
  },
  {
   "cell_type": "code",
   "execution_count": 220,
   "id": "b4e183b7",
   "metadata": {},
   "outputs": [
    {
     "data": {
      "text/plain": [
       "<Axes: xlabel='education', ylabel='balance'>"
      ]
     },
     "execution_count": 220,
     "metadata": {},
     "output_type": "execute_result"
    },
    {
     "data": {
      "image/png": "[encoded data removed]",
      "text/plain": [
       "<Figure size 640x480 with 1 Axes>"
      ]
     },
     "metadata": {},
     "output_type": "display_data"
    }
   ],
   "source": [
    "sns.barplot(x = \"education\", y = \"balance\", data=df)"
   ]
  },
  {
   "cell_type": "markdown",
   "id": "d69f4c06",
   "metadata": {},
   "source": [
    "**Education and Deposit**"
   ]
  },
  {
   "cell_type": "code",
   "execution_count": 221,
   "id": "3b095d1e",
   "metadata": {
    "scrolled": true
   },
   "outputs": [
    {
     "data": {
      "text/plain": [
       "<Axes: xlabel='education', ylabel='deposit_n'>"
      ]
     },
     "execution_count": 221,
     "metadata": {},
     "output_type": "execute_result"
    },
    {
     "data": {
      "image/png": "[encoded data removed]",
      "text/plain": [
       "<Figure size 640x480 with 1 Axes>"
      ]
     },
     "metadata": {},
     "output_type": "display_data"
    }
   ],
   "source": [
    "sns.barplot(x = \"education\", y = \"deposit_n\", data=df)"
   ]
  },
  {
   "cell_type": "markdown",
   "id": "6441e141",
   "metadata": {},
   "source": [
    "**Housing and Balance**"
   ]
  },
  {
   "cell_type": "code",
   "execution_count": 222,
   "id": "9ad24e96",
   "metadata": {
    "scrolled": true
   },
   "outputs": [
    {
     "data": {
      "text/plain": [
       "<Axes: xlabel='housing', ylabel='balance'>"
      ]
     },
     "execution_count": 222,
     "metadata": {},
     "output_type": "execute_result"
    },
    {
     "data": {
      "image/png": "[encoded data removed]",
      "text/plain": [
       "<Figure size 640x480 with 1 Axes>"
      ]
     },
     "metadata": {},
     "output_type": "display_data"
    }
   ],
   "source": [
    "sns.barplot(x = \"housing\", y = \"balance\", data=df)"
   ]
  },
  {
   "cell_type": "markdown",
   "id": "05c20839",
   "metadata": {},
   "source": [
    "**Housing and Deposit**"
   ]
  },
  {
   "cell_type": "code",
   "execution_count": 223,
   "id": "ee43609e",
   "metadata": {
    "scrolled": true
   },
   "outputs": [
    {
     "data": {
      "text/plain": [
       "<Axes: xlabel='housing', ylabel='deposit_n'>"
      ]
     },
     "execution_count": 223,
     "metadata": {},
     "output_type": "execute_result"
    },
    {
     "data": {
      "image/png": "[encoded data removed]",
      "text/plain": [
       "<Figure size 640x480 with 1 Axes>"
      ]
     },
     "metadata": {},
     "output_type": "display_data"
    }
   ],
   "source": [
    "sns.barplot(x = \"housing\", y = \"deposit_n\", data=df)"
   ]
  },
  {
   "cell_type": "markdown",
   "id": "cee5eb29",
   "metadata": {},
   "source": [
    "**Loan and Balance**"
   ]
  },
  {
   "cell_type": "code",
   "execution_count": 224,
   "id": "17eeff1b",
   "metadata": {
    "scrolled": true
   },
   "outputs": [
    {
     "data": {
      "text/plain": [
       "<Axes: xlabel='loan', ylabel='balance'>"
      ]
     },
     "execution_count": 224,
     "metadata": {},
     "output_type": "execute_result"
    },
    {
     "data": {
      "image/png": "[encoded data removed]",
      "text/plain": [
       "<Figure size 640x480 with 1 Axes>"
      ]
     },
     "metadata": {},
     "output_type": "display_data"
    }
   ],
   "source": [
    "sns.barplot(x = \"loan\", y = \"balance\", data=df)"
   ]
  },
  {
   "cell_type": "markdown",
   "id": "c019e1f0",
   "metadata": {},
   "source": [
    "**Loan and Deposit**"
   ]
  },
  {
   "cell_type": "code",
   "execution_count": 225,
   "id": "b07c2841",
   "metadata": {
    "scrolled": true
   },
   "outputs": [
    {
     "data": {
      "text/plain": [
       "<Axes: xlabel='loan', ylabel='deposit_n'>"
      ]
     },
     "execution_count": 225,
     "metadata": {},
     "output_type": "execute_result"
    },
    {
     "data": {
      "image/png": "[encoded data removed]",
      "text/plain": [
       "<Figure size 640x480 with 1 Axes>"
      ]
     },
     "metadata": {},
     "output_type": "display_data"
    }
   ],
   "source": [
    "sns.barplot(x = \"loan\", y = \"deposit_n\", data=df)"
   ]
  },
  {
   "cell_type": "markdown",
   "id": "4ee24168",
   "metadata": {},
   "source": [
    "## 4. Observations:"
   ]
  },
  {
   "cell_type": "markdown",
   "id": "6b8cbf59",
   "metadata": {},
   "source": [
    "We've generated some plots to understand the internal relations between our independent variables.\n",
    "As we can see from the plots,\n",
    "- people who are married has more balance in their account followed by singles and divorced.\n",
    "- people with higher_mid_age and higher_age have term deposit.\n",
    "- Also, people with higher_mid_age and higher_age have more balance in their accounts."
   ]
  },
  {
   "cell_type": "markdown",
   "id": "a97abb25",
   "metadata": {},
   "source": [
    "Let's investigate whether their occupations have any significant impact on term deposits and their account balances. Although it seems evident that job types might affect balances, let's plot the data to confirm this assumption."
   ]
  },
  {
   "cell_type": "markdown",
   "id": "b7ba2d62",
   "metadata": {},
   "source": [
    "**Job and Balance**"
   ]
  },
  {
   "cell_type": "code",
   "execution_count": 226,
   "id": "815a8e0d",
   "metadata": {
    "scrolled": true
   },
   "outputs": [
    {
     "data": {
      "text/plain": [
       "[Text(0, 0, 'admin.'),\n",
       " Text(1, 0, 'technician'),\n",
       " Text(2, 0, 'services'),\n",
       " Text(3, 0, 'management'),\n",
       " Text(4, 0, 'retired'),\n",
       " Text(5, 0, 'blue-collar'),\n",
       " Text(6, 0, 'unemployed'),\n",
       " Text(7, 0, 'entrepreneur'),\n",
       " Text(8, 0, 'housemaid'),\n",
       " Text(9, 0, 'unknown'),\n",
       " Text(10, 0, 'self-employed'),\n",
       " Text(11, 0, 'student')]"
      ]
     },
     "execution_count": 226,
     "metadata": {},
     "output_type": "execute_result"
    },
    {
     "data": {
      "image/png": "[encoded data removed]",
      "text/plain": [
       "<Figure size 640x480 with 1 Axes>"
      ]
     },
     "metadata": {},
     "output_type": "display_data"
    }
   ],
   "source": [
    "sns.barplot(x=\"job\", y=\"balance\", data=df).set_xticklabels(labels = df.job.unique(), rotation=90)"
   ]
  },
  {
   "cell_type": "markdown",
   "id": "da4b02f9",
   "metadata": {},
   "source": [
    "**Job and Deposit**"
   ]
  },
  {
   "cell_type": "code",
   "execution_count": 227,
   "id": "96a19b20",
   "metadata": {},
   "outputs": [
    {
     "data": {
      "text/plain": [
       "[Text(0, 0, 'admin.'),\n",
       " Text(1, 0, 'technician'),\n",
       " Text(2, 0, 'services'),\n",
       " Text(3, 0, 'management'),\n",
       " Text(4, 0, 'retired'),\n",
       " Text(5, 0, 'blue-collar'),\n",
       " Text(6, 0, 'unemployed'),\n",
       " Text(7, 0, 'entrepreneur'),\n",
       " Text(8, 0, 'housemaid'),\n",
       " Text(9, 0, 'unknown'),\n",
       " Text(10, 0, 'self-employed'),\n",
       " Text(11, 0, 'student')]"
      ]
     },
     "execution_count": 227,
     "metadata": {},
     "output_type": "execute_result"
    },
    {
     "data": {
      "image/png": "[encoded data removed]",
      "text/plain": [
       "<Figure size 640x480 with 1 Axes>"
      ]
     },
     "metadata": {},
     "output_type": "display_data"
    }
   ],
   "source": [
    "sns.barplot(x=\"job\", y=\"deposit_n\", data=df).set_xticklabels(labels=df.job.unique(), rotation = 90)"
   ]
  },
  {
   "cell_type": "markdown",
   "id": "e8877d94",
   "metadata": {},
   "source": [
    "As we can see,\n",
    "- students are on the top followed by retired people when it comes to term deposit"
   ]
  },
  {
   "cell_type": "markdown",
   "id": "c7e9dee9",
   "metadata": {},
   "source": [
    "## 5. Preparing the data for machine learning:"
   ]
  },
  {
   "cell_type": "markdown",
   "id": "48de37d3",
   "metadata": {},
   "source": [
    "- we only need age, job, marital, education, balance, housing, loan and deposit from the dataframe.\n",
    "- we have already converted deposit column into {\"yes\": 1, \"no\": 0}.\n",
    "- we will apply one-hot encoding to the following columns: marital, housing and loan.\n",
    "- we will apply binary encoding to the following columns: job and education.\n",
    "- we will normalize the column \"balance\"."
   ]
  },
  {
   "cell_type": "code",
   "execution_count": 228,
   "id": "167de9aa",
   "metadata": {},
   "outputs": [],
   "source": [
    "dummy_var = pd.get_dummies(df[[\"marital\", \"housing\", \"loan\"]])\n",
    "df = pd.concat([df, dummy_var], axis = 1)"
   ]
  },
  {
   "cell_type": "code",
   "execution_count": 229,
   "id": "68e689a9",
   "metadata": {
    "scrolled": true
   },
   "outputs": [
    {
     "data": {
      "text/html": [
       "<div>\n",
       "<style scoped>\n",
       "    .dataframe tbody tr th:only-of-type {\n",
       "        vertical-align: middle;\n",
       "    }\n",
       "\n",
       "    .dataframe tbody tr th {\n",
       "        vertical-align: top;\n",
       "    }\n",
       "\n",
       "    .dataframe thead th {\n",
       "        text-align: right;\n",
       "    }\n",
       "</style>\n",
       "<table border=\"1\" class=\"dataframe\">\n",
       "  <thead>\n",
       "    <tr style=\"text-align: right;\">\n",
       "      <th></th>\n",
       "      <th>cols</th>\n",
       "    </tr>\n",
       "  </thead>\n",
       "  <tbody>\n",
       "    <tr>\n",
       "      <th>0</th>\n",
       "      <td>age</td>\n",
       "    </tr>\n",
       "    <tr>\n",
       "      <th>1</th>\n",
       "      <td>job</td>\n",
       "    </tr>\n",
       "    <tr>\n",
       "      <th>2</th>\n",
       "      <td>marital</td>\n",
       "    </tr>\n",
       "    <tr>\n",
       "      <th>3</th>\n",
       "      <td>education</td>\n",
       "    </tr>\n",
       "    <tr>\n",
       "      <th>4</th>\n",
       "      <td>default</td>\n",
       "    </tr>\n",
       "    <tr>\n",
       "      <th>5</th>\n",
       "      <td>balance</td>\n",
       "    </tr>\n",
       "    <tr>\n",
       "      <th>6</th>\n",
       "      <td>housing</td>\n",
       "    </tr>\n",
       "    <tr>\n",
       "      <th>7</th>\n",
       "      <td>loan</td>\n",
       "    </tr>\n",
       "    <tr>\n",
       "      <th>8</th>\n",
       "      <td>contact</td>\n",
       "    </tr>\n",
       "    <tr>\n",
       "      <th>9</th>\n",
       "      <td>day</td>\n",
       "    </tr>\n",
       "    <tr>\n",
       "      <th>10</th>\n",
       "      <td>month</td>\n",
       "    </tr>\n",
       "    <tr>\n",
       "      <th>11</th>\n",
       "      <td>duration</td>\n",
       "    </tr>\n",
       "    <tr>\n",
       "      <th>12</th>\n",
       "      <td>campaign</td>\n",
       "    </tr>\n",
       "    <tr>\n",
       "      <th>13</th>\n",
       "      <td>pdays</td>\n",
       "    </tr>\n",
       "    <tr>\n",
       "      <th>14</th>\n",
       "      <td>previous</td>\n",
       "    </tr>\n",
       "    <tr>\n",
       "      <th>15</th>\n",
       "      <td>poutcome</td>\n",
       "    </tr>\n",
       "    <tr>\n",
       "      <th>16</th>\n",
       "      <td>deposit</td>\n",
       "    </tr>\n",
       "    <tr>\n",
       "      <th>17</th>\n",
       "      <td>binned_age</td>\n",
       "    </tr>\n",
       "    <tr>\n",
       "      <th>18</th>\n",
       "      <td>binned_bal</td>\n",
       "    </tr>\n",
       "    <tr>\n",
       "      <th>19</th>\n",
       "      <td>deposit_n</td>\n",
       "    </tr>\n",
       "    <tr>\n",
       "      <th>20</th>\n",
       "      <td>marital_n</td>\n",
       "    </tr>\n",
       "    <tr>\n",
       "      <th>21</th>\n",
       "      <td>marital_divorced</td>\n",
       "    </tr>\n",
       "    <tr>\n",
       "      <th>22</th>\n",
       "      <td>marital_married</td>\n",
       "    </tr>\n",
       "    <tr>\n",
       "      <th>23</th>\n",
       "      <td>marital_single</td>\n",
       "    </tr>\n",
       "    <tr>\n",
       "      <th>24</th>\n",
       "      <td>housing_no</td>\n",
       "    </tr>\n",
       "    <tr>\n",
       "      <th>25</th>\n",
       "      <td>housing_yes</td>\n",
       "    </tr>\n",
       "    <tr>\n",
       "      <th>26</th>\n",
       "      <td>loan_no</td>\n",
       "    </tr>\n",
       "    <tr>\n",
       "      <th>27</th>\n",
       "      <td>loan_yes</td>\n",
       "    </tr>\n",
       "  </tbody>\n",
       "</table>\n",
       "</div>"
      ],
      "text/plain": [
       "                cols\n",
       "0                age\n",
       "1                job\n",
       "2            marital\n",
       "3          education\n",
       "4            default\n",
       "5            balance\n",
       "6            housing\n",
       "7               loan\n",
       "8            contact\n",
       "9                day\n",
       "10             month\n",
       "11          duration\n",
       "12          campaign\n",
       "13             pdays\n",
       "14          previous\n",
       "15          poutcome\n",
       "16           deposit\n",
       "17        binned_age\n",
       "18        binned_bal\n",
       "19         deposit_n\n",
       "20         marital_n\n",
       "21  marital_divorced\n",
       "22   marital_married\n",
       "23    marital_single\n",
       "24        housing_no\n",
       "25       housing_yes\n",
       "26           loan_no\n",
       "27          loan_yes"
      ]
     },
     "execution_count": 229,
     "metadata": {},
     "output_type": "execute_result"
    }
   ],
   "source": [
    "column_names = pd.DataFrame(df.columns, columns = [\"cols\"])\n",
    "column_names"
   ]
  },
  {
   "cell_type": "code",
   "execution_count": 230,
   "id": "953f4d14",
   "metadata": {
    "scrolled": false
   },
   "outputs": [],
   "source": [
    "# let's remove the columns we do not need:\n",
    "\n",
    "data = df.drop(columns = df.columns[[2,4,6,7,8,9,10,11,12,13,14,15,17,18,20]], axis = 1)"
   ]
  },
  {
   "cell_type": "code",
   "execution_count": 231,
   "id": "b0efccd1",
   "metadata": {},
   "outputs": [],
   "source": [
    "#  Let's normalize balance and age column:\n",
    "\n",
    "data.balance = data.balance/data.balance.max()\n",
    "data.age = data.age/data.age.max()"
   ]
  },
  {
   "cell_type": "code",
   "execution_count": 232,
   "id": "98284514",
   "metadata": {},
   "outputs": [],
   "source": [
    "#Import\n",
    "\n",
    "from category_encoders.binary import BinaryEncoder\n",
    "from sklearn.linear_model import LinearRegression\n",
    "from sklearn.model_selection import train_test_split\n",
    "from sklearn.pipeline import Pipeline\n",
    "from sklearn.preprocessing import StandardScaler, PolynomialFeatures\n",
    "from sklearn.metrics import mean_squared_error, r2_score"
   ]
  },
  {
   "cell_type": "code",
   "execution_count": 233,
   "id": "b4c3bd9f",
   "metadata": {},
   "outputs": [],
   "source": [
    "x = data.drop([\"deposit\", \"deposit_n\", \"balance\"], axis=1)\n",
    "y = data.deposit_n"
   ]
  },
  {
   "cell_type": "code",
   "execution_count": 234,
   "id": "491a099e",
   "metadata": {},
   "outputs": [],
   "source": [
    "encoder = BinaryEncoder(cols = [\"job\", \"education\"])\n",
    "encoder.fit(x)\n",
    "x = encoder.transform(x).astype(\"float\")"
   ]
  },
  {
   "cell_type": "markdown",
   "id": "5f5d6a17",
   "metadata": {},
   "source": [
    "## 6. Model Training:"
   ]
  },
  {
   "cell_type": "markdown",
   "id": "78497a3c",
   "metadata": {},
   "source": [
    "KNN"
   ]
  },
  {
   "cell_type": "code",
   "execution_count": 235,
   "id": "c8d74284",
   "metadata": {},
   "outputs": [],
   "source": [
    "from sklearn.model_selection import train_test_split\n",
    "\n",
    "x_train, x_test, y_train, y_test = train_test_split(x, y, test_size = 0.3, random_state = 1)"
   ]
  },
  {
   "cell_type": "code",
   "execution_count": 236,
   "id": "bea5eacd",
   "metadata": {},
   "outputs": [
    {
     "data": {
      "text/html": [
       "<style>#sk-container-id-4 {color: black;}#sk-container-id-4 pre{padding: 0;}#sk-container-id-4 div.sk-toggleable {background-color: white;}#sk-container-id-4 label.sk-toggleable__label {cursor: pointer;display: block;width: 100%;margin-bottom: 0;padding: 0.3em;box-sizing: border-box;text-align: center;}#sk-container-id-4 label.sk-toggleable__label-arrow:before {content: \"▸\";float: left;margin-right: 0.25em;color: #696969;}#sk-container-id-4 label.sk-toggleable__label-arrow:hover:before {color: black;}#sk-container-id-4 div.sk-estimator:hover label.sk-toggleable__label-arrow:before {color: black;}#sk-container-id-4 div.sk-toggleable__content {max-height: 0;max-width: 0;overflow: hidden;text-align: left;background-color: #f0f8ff;}#sk-container-id-4 div.sk-toggleable__content pre {margin: 0.2em;color: black;border-radius: 0.25em;background-color: #f0f8ff;}#sk-container-id-4 input.sk-toggleable__control:checked~div.sk-toggleable__content {max-height: 200px;max-width: 100%;overflow: auto;}#sk-container-id-4 input.sk-toggleable__control:checked~label.sk-toggleable__label-arrow:before {content: \"▾\";}#sk-container-id-4 div.sk-estimator input.sk-toggleable__control:checked~label.sk-toggleable__label {background-color: #d4ebff;}#sk-container-id-4 div.sk-label input.sk-toggleable__control:checked~label.sk-toggleable__label {background-color: #d4ebff;}#sk-container-id-4 input.sk-hidden--visually {border: 0;clip: rect(1px 1px 1px 1px);clip: rect(1px, 1px, 1px, 1px);height: 1px;margin: -1px;overflow: hidden;padding: 0;position: absolute;width: 1px;}#sk-container-id-4 div.sk-estimator {font-family: monospace;background-color: #f0f8ff;border: 1px dotted black;border-radius: 0.25em;box-sizing: border-box;margin-bottom: 0.5em;}#sk-container-id-4 div.sk-estimator:hover {background-color: #d4ebff;}#sk-container-id-4 div.sk-parallel-item::after {content: \"\";width: 100%;border-bottom: 1px solid gray;flex-grow: 1;}#sk-container-id-4 div.sk-label:hover label.sk-toggleable__label {background-color: #d4ebff;}#sk-container-id-4 div.sk-serial::before {content: \"\";position: absolute;border-left: 1px solid gray;box-sizing: border-box;top: 0;bottom: 0;left: 50%;z-index: 0;}#sk-container-id-4 div.sk-serial {display: flex;flex-direction: column;align-items: center;background-color: white;padding-right: 0.2em;padding-left: 0.2em;position: relative;}#sk-container-id-4 div.sk-item {position: relative;z-index: 1;}#sk-container-id-4 div.sk-parallel {display: flex;align-items: stretch;justify-content: center;background-color: white;position: relative;}#sk-container-id-4 div.sk-item::before, #sk-container-id-4 div.sk-parallel-item::before {content: \"\";position: absolute;border-left: 1px solid gray;box-sizing: border-box;top: 0;bottom: 0;left: 50%;z-index: -1;}#sk-container-id-4 div.sk-parallel-item {display: flex;flex-direction: column;z-index: 1;position: relative;background-color: white;}#sk-container-id-4 div.sk-parallel-item:first-child::after {align-self: flex-end;width: 50%;}#sk-container-id-4 div.sk-parallel-item:last-child::after {align-self: flex-start;width: 50%;}#sk-container-id-4 div.sk-parallel-item:only-child::after {width: 0;}#sk-container-id-4 div.sk-dashed-wrapped {border: 1px dashed gray;margin: 0 0.4em 0.5em 0.4em;box-sizing: border-box;padding-bottom: 0.4em;background-color: white;}#sk-container-id-4 div.sk-label label {font-family: monospace;font-weight: bold;display: inline-block;line-height: 1.2em;}#sk-container-id-4 div.sk-label-container {text-align: center;}#sk-container-id-4 div.sk-container {/* jupyter's `normalize.less` sets `[hidden] { display: none; }` but bootstrap.min.css set `[hidden] { display: none !important; }` so we also need the `!important` here to be able to override the default hidden behavior on the sphinx rendered scikit-learn.org. See: https://github.com/scikit-learn/scikit-learn/issues/21755 */display: inline-block !important;position: relative;}#sk-container-id-4 div.sk-text-repr-fallback {display: none;}</style><div id=\"sk-container-id-4\" class=\"sk-top-container\"><div class=\"sk-text-repr-fallback\"><pre>KNeighborsClassifier(n_neighbors=4)</pre><b>In a Jupyter environment, please rerun this cell to show the HTML representation or trust the notebook. <br />On GitHub, the HTML representation is unable to render, please try loading this page with nbviewer.org.</b></div><div class=\"sk-container\" hidden><div class=\"sk-item\"><div class=\"sk-estimator sk-toggleable\"><input class=\"sk-toggleable__control sk-hidden--visually\" id=\"sk-estimator-id-4\" type=\"checkbox\" checked><label for=\"sk-estimator-id-4\" class=\"sk-toggleable__label sk-toggleable__label-arrow\">KNeighborsClassifier</label><div class=\"sk-toggleable__content\"><pre>KNeighborsClassifier(n_neighbors=4)</pre></div></div></div></div></div>"
      ],
      "text/plain": [
       "KNeighborsClassifier(n_neighbors=4)"
      ]
     },
     "execution_count": 236,
     "metadata": {},
     "output_type": "execute_result"
    }
   ],
   "source": [
    "from sklearn.neighbors import KNeighborsClassifier as KNN\n",
    "\n",
    "classifier = KNN(n_neighbors=4)\n",
    "classifier.fit(x_train, y_train)"
   ]
  },
  {
   "cell_type": "code",
   "execution_count": 237,
   "id": "22669df9",
   "metadata": {},
   "outputs": [],
   "source": [
    "pred = classifier.predict(x_test)"
   ]
  },
  {
   "cell_type": "code",
   "execution_count": 239,
   "id": "b2b76dfe",
   "metadata": {
    "scrolled": true
   },
   "outputs": [
    {
     "data": {
      "text/plain": [
       "0.8052861873226111"
      ]
     },
     "execution_count": 239,
     "metadata": {},
     "output_type": "execute_result"
    }
   ],
   "source": [
    "from sklearn.metrics import accuracy_score\n",
    "accuracy_score(y_test, pred)"
   ]
  },
  {
   "cell_type": "markdown",
   "id": "f15396e0",
   "metadata": {},
   "source": [
    "Decision Tree"
   ]
  },
  {
   "cell_type": "code",
   "execution_count": 240,
   "id": "11d64986",
   "metadata": {},
   "outputs": [
    {
     "data": {
      "text/html": [
       "<style>#sk-container-id-5 {color: black;}#sk-container-id-5 pre{padding: 0;}#sk-container-id-5 div.sk-toggleable {background-color: white;}#sk-container-id-5 label.sk-toggleable__label {cursor: pointer;display: block;width: 100%;margin-bottom: 0;padding: 0.3em;box-sizing: border-box;text-align: center;}#sk-container-id-5 label.sk-toggleable__label-arrow:before {content: \"▸\";float: left;margin-right: 0.25em;color: #696969;}#sk-container-id-5 label.sk-toggleable__label-arrow:hover:before {color: black;}#sk-container-id-5 div.sk-estimator:hover label.sk-toggleable__label-arrow:before {color: black;}#sk-container-id-5 div.sk-toggleable__content {max-height: 0;max-width: 0;overflow: hidden;text-align: left;background-color: #f0f8ff;}#sk-container-id-5 div.sk-toggleable__content pre {margin: 0.2em;color: black;border-radius: 0.25em;background-color: #f0f8ff;}#sk-container-id-5 input.sk-toggleable__control:checked~div.sk-toggleable__content {max-height: 200px;max-width: 100%;overflow: auto;}#sk-container-id-5 input.sk-toggleable__control:checked~label.sk-toggleable__label-arrow:before {content: \"▾\";}#sk-container-id-5 div.sk-estimator input.sk-toggleable__control:checked~label.sk-toggleable__label {background-color: #d4ebff;}#sk-container-id-5 div.sk-label input.sk-toggleable__control:checked~label.sk-toggleable__label {background-color: #d4ebff;}#sk-container-id-5 input.sk-hidden--visually {border: 0;clip: rect(1px 1px 1px 1px);clip: rect(1px, 1px, 1px, 1px);height: 1px;margin: -1px;overflow: hidden;padding: 0;position: absolute;width: 1px;}#sk-container-id-5 div.sk-estimator {font-family: monospace;background-color: #f0f8ff;border: 1px dotted black;border-radius: 0.25em;box-sizing: border-box;margin-bottom: 0.5em;}#sk-container-id-5 div.sk-estimator:hover {background-color: #d4ebff;}#sk-container-id-5 div.sk-parallel-item::after {content: \"\";width: 100%;border-bottom: 1px solid gray;flex-grow: 1;}#sk-container-id-5 div.sk-label:hover label.sk-toggleable__label {background-color: #d4ebff;}#sk-container-id-5 div.sk-serial::before {content: \"\";position: absolute;border-left: 1px solid gray;box-sizing: border-box;top: 0;bottom: 0;left: 50%;z-index: 0;}#sk-container-id-5 div.sk-serial {display: flex;flex-direction: column;align-items: center;background-color: white;padding-right: 0.2em;padding-left: 0.2em;position: relative;}#sk-container-id-5 div.sk-item {position: relative;z-index: 1;}#sk-container-id-5 div.sk-parallel {display: flex;align-items: stretch;justify-content: center;background-color: white;position: relative;}#sk-container-id-5 div.sk-item::before, #sk-container-id-5 div.sk-parallel-item::before {content: \"\";position: absolute;border-left: 1px solid gray;box-sizing: border-box;top: 0;bottom: 0;left: 50%;z-index: -1;}#sk-container-id-5 div.sk-parallel-item {display: flex;flex-direction: column;z-index: 1;position: relative;background-color: white;}#sk-container-id-5 div.sk-parallel-item:first-child::after {align-self: flex-end;width: 50%;}#sk-container-id-5 div.sk-parallel-item:last-child::after {align-self: flex-start;width: 50%;}#sk-container-id-5 div.sk-parallel-item:only-child::after {width: 0;}#sk-container-id-5 div.sk-dashed-wrapped {border: 1px dashed gray;margin: 0 0.4em 0.5em 0.4em;box-sizing: border-box;padding-bottom: 0.4em;background-color: white;}#sk-container-id-5 div.sk-label label {font-family: monospace;font-weight: bold;display: inline-block;line-height: 1.2em;}#sk-container-id-5 div.sk-label-container {text-align: center;}#sk-container-id-5 div.sk-container {/* jupyter's `normalize.less` sets `[hidden] { display: none; }` but bootstrap.min.css set `[hidden] { display: none !important; }` so we also need the `!important` here to be able to override the default hidden behavior on the sphinx rendered scikit-learn.org. See: https://github.com/scikit-learn/scikit-learn/issues/21755 */display: inline-block !important;position: relative;}#sk-container-id-5 div.sk-text-repr-fallback {display: none;}</style><div id=\"sk-container-id-5\" class=\"sk-top-container\"><div class=\"sk-text-repr-fallback\"><pre>DecisionTreeClassifier(max_depth=5)</pre><b>In a Jupyter environment, please rerun this cell to show the HTML representation or trust the notebook. <br />On GitHub, the HTML representation is unable to render, please try loading this page with nbviewer.org.</b></div><div class=\"sk-container\" hidden><div class=\"sk-item\"><div class=\"sk-estimator sk-toggleable\"><input class=\"sk-toggleable__control sk-hidden--visually\" id=\"sk-estimator-id-5\" type=\"checkbox\" checked><label for=\"sk-estimator-id-5\" class=\"sk-toggleable__label sk-toggleable__label-arrow\">DecisionTreeClassifier</label><div class=\"sk-toggleable__content\"><pre>DecisionTreeClassifier(max_depth=5)</pre></div></div></div></div></div>"
      ],
      "text/plain": [
       "DecisionTreeClassifier(max_depth=5)"
      ]
     },
     "execution_count": 240,
     "metadata": {},
     "output_type": "execute_result"
    }
   ],
   "source": [
    "from sklearn.tree import DecisionTreeClassifier\n",
    "\n",
    "classifier = DecisionTreeClassifier(max_depth = 5)\n",
    "classifier.fit(x_train, y_train)"
   ]
  },
  {
   "cell_type": "code",
   "execution_count": 241,
   "id": "60216b11",
   "metadata": {},
   "outputs": [],
   "source": [
    "pred = classifier.predict(x_test)"
   ]
  },
  {
   "cell_type": "code",
   "execution_count": 242,
   "id": "85907888",
   "metadata": {
    "scrolled": true
   },
   "outputs": [
    {
     "data": {
      "text/plain": [
       "0.8100756859035004"
      ]
     },
     "execution_count": 242,
     "metadata": {},
     "output_type": "execute_result"
    }
   ],
   "source": [
    "accuracy_score(pred, y_test)"
   ]
  }
 ],
 "metadata": {
  "kernelspec": {
   "display_name": "Python 3 (ipykernel)",
   "language": "python",
   "name": "python3"
  },
  "language_info": {
   "codemirror_mode": {
    "name": "ipython",
    "version": 3
   },
   "file_extension": ".py",
   "mimetype": "text/x-python",
   "name": "python",
   "nbconvert_exporter": "python",
   "pygments_lexer": "ipython3",
   "version": "3.11.5"
  }
 },
 "nbformat": 4,
 "nbformat_minor": 5
}
